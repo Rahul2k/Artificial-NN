{
 "cells": [
  {
   "cell_type": "code",
   "execution_count": 25,
   "metadata": {},
   "outputs": [],
   "source": [
    "import numpy as np\n",
    "import matplotlib.pyplot as plt\n",
    "import pandas as pd\n",
    "\n",
    "from keras.utils import to_categorical\n",
    "\n",
    "from sklearn.model_selection import train_test_split"
   ]
  },
  {
   "cell_type": "markdown",
   "metadata": {},
   "source": [
    "## Dataset (MNIST Flattened CSV)"
   ]
  },
  {
   "cell_type": "code",
   "execution_count": 26,
   "metadata": {},
   "outputs": [],
   "source": [
    "mnist = pd.read_csv(\"mnist.csv\")\n",
    "\n",
    "# Flattened MNIST Images.\n",
    "\n",
    "data = np.array(mnist)\n",
    "\n",
    "X = data[:,:-1]\n",
    "\n",
    "y = data[:,-1]\n",
    "y_oht = to_categorical(y,num_classes=10, dtype='int32')\n",
    "\n",
    "X_train, X_test, y_train, y_test = train_test_split(X, y_oht, test_size=0.2, random_state=42)"
   ]
  },
  {
   "cell_type": "markdown",
   "metadata": {},
   "source": [
    "## Objective:\n",
    "        \n",
    "        We need to classify the given flattened grayscale images into the 10 digits of Decimal system"
   ]
  },
  {
   "cell_type": "markdown",
   "metadata": {},
   "source": [
    "## Neural Network "
   ]
  },
  {
   "cell_type": "code",
   "execution_count": 21,
   "metadata": {},
   "outputs": [],
   "source": [
    "def softmax(a):\n",
    "    ea = np.exp(a)\n",
    "    return ea/np.sum(ea,axis=1,keepdims=True)\n",
    "\n",
    "# Dimensionality needs to be maintained.\n",
    "\n",
    "\n",
    "class NeuralNetwork:\n",
    "    \n",
    "    # Constructing 3 layer acrchitecture with softmax as output activation.\n",
    "    \n",
    "    def __init__(self,input_size,h1,h2,output_size):    # h1 -> number of neurons in first layer\n",
    "                                                        # h2 -> number of neurons in second layer\n",
    "        model = {}\n",
    "        model[\"W1\"] = np.random.randn(input_size,h1)    # Weight Matrix for first layer\n",
    "        model[\"b1\"] = np.zeros((1,h1))                  # Bias for first layer\n",
    "\n",
    "        model[\"W2\"] = np.random.randn(h1,h2)              # Weight Matrix for second layer\n",
    "        model[\"b2\"] = np.zeros((1,h2))                    # Bias for second layer\n",
    "\n",
    "        model[\"W3\"] = np.random.randn(h2,output_size)     # Weight Matrix for third layer \n",
    "        model[\"b3\"] = np.zeros((1,output_size))           # Bias for third layer\n",
    "        \n",
    "        self.activation_outputs = (-1,-1,-1)            # Activation outputs after each layer\n",
    "\n",
    "        self.model = model\n",
    "\n",
    "        \n",
    "        \n",
    "#   Forward Propogation ...        \n",
    "        \n",
    "    def forward(self,X):\n",
    "        \n",
    "        model = self.model\n",
    "        W1,W2,W3 = model[\"W1\"],model[\"W2\"],model[\"W3\"]\n",
    "        b1,b2,b3 = model[\"b1\"],model[\"b2\"],model[\"b3\"]\n",
    "\n",
    "        # First Layer\n",
    "        z1 = np.dot(X,W1) + b1\n",
    "        a1 = np.tanh(z1)          # tanh activation\n",
    "\n",
    "        #Second Layer\n",
    "        z2 = np.dot(a1,W2) + b2\n",
    "        a2 = np.tanh(z2)          # tanh activation\n",
    "\n",
    "        #Third Layer\n",
    "        z3 = np.dot(a2,W3) + b3\n",
    "        a3 = softmax(z3)          # Softmax Activation\n",
    "\n",
    "\n",
    "        self.activation_outputs = (a1,a2,a3)\n",
    "        return a3                 # Final Output is from softmax activation\n",
    "    \n",
    "    \n",
    "    \n",
    "#   Back Propogation...\n",
    "    \n",
    "    def backward(self,X,y,learning_rate):\n",
    "\n",
    "        m = X.shape[0]\n",
    "        model = self.model\n",
    "        (a1,a2,a3) = self.activation_outputs \n",
    "        W1,W2,W3 = model[\"W1\"],model[\"W2\"],model[\"W3\"]\n",
    "        b1,b2,b3 = model[\"b1\"],model[\"b2\"],model[\"b3\"]\n",
    "        \n",
    "        # Delta3,dw3,db3\n",
    "        delta3 = a3 - y               # for cross entropy, softmax activation\n",
    "        dw3 = np.dot(a2.T,delta3)     # (h2Xm,mXc) = (h2Xc) = W3.shape\n",
    "        db3 = np.sum(delta3,axis=0)   \n",
    "\n",
    "        # Delta2, dw2, db2\n",
    "        delta2 = np.dot(delta3,W3.T)*(1-np.square(a2))\n",
    "        dw2 = np.dot(a1.T,delta2) # (h1Xm,mXh2) = (h1Xh2) = W2.shape\n",
    "        db2 = np.sum(delta2,axis=0)\n",
    "\n",
    "        # Delta1, dw1, db1\n",
    "        delta1 = np.dot(delta2,W2.T)*(1-np.square(a1))\n",
    "        dw1 = np.dot(X.T,delta1)\n",
    "        db1 = np.sum(delta1,axis=0)\n",
    "\n",
    "        #Gradient Descent\n",
    "        \n",
    "        self.model[\"W1\"] -= learning_rate*dw1\n",
    "        self.model[\"W2\"] -= learning_rate*dw2\n",
    "        self.model[\"W3\"] -= learning_rate*dw3\n",
    "\n",
    "        self.model[\"b1\"] -= learning_rate*db1\n",
    "        self.model[\"b2\"] -= learning_rate*db2\n",
    "        self.model[\"b3\"] -= learning_rate*db3\n",
    "        \n",
    "        \n",
    "        \n",
    "\n",
    "    def predict(self,X):\n",
    "        \n",
    "        y_pred = self.forward(X)           # Prediction is just the forward pass for X_test\n",
    "        return np.argmax(y_pred,axis=1)    # Prediction for the output with max probability \n",
    "\n",
    "\n",
    "    def loss(self,y_oht,pred):              \n",
    "        return -1*np.mean(y_oht*np.log(pred))   # Implementing Cross-Entropy Loss\n",
    "    \n",
    "    \n",
    "    \n",
    "    def train(self,X,y,learning_rate,epochs):\n",
    "\n",
    "        losses = []\n",
    "        for i in range(epochs):  \n",
    "                                                    \n",
    "            preds = self.forward(X)                 # For every epoch, a forward pass followed by back propogation is done,\n",
    "                                                    # loss is calculated and weights are updated after every epoch. \n",
    "            l = self.loss(y,preds)                  # Training time can be decreased using mini-Batch gradient descent.\n",
    "            losses.append(l)\n",
    "            \n",
    "            self.backward(X,y,learning_rate)\n",
    "\n",
    "        \n",
    "        return losses"
   ]
  },
  {
   "cell_type": "code",
   "execution_count": 27,
   "metadata": {},
   "outputs": [],
   "source": [
    "NN = NeuralNetwork(784,5,11,10)\n",
    "losses = NN.train(X,y_oht,0.0001,800)  # learning rate=0.00001 to avoid oershooting of the global minima\n",
    "\n",
    "#  Caution !! -> Takes about 1 minute to train on the examples"
   ]
  },
  {
   "cell_type": "markdown",
   "metadata": {},
   "source": [
    "## Loss Plot"
   ]
  },
  {
   "cell_type": "code",
   "execution_count": 28,
   "metadata": {},
   "outputs": [
    {
     "data": {
      "image/png": "[encoded data removed]",
      "text/plain": [
       "<Figure size 432x288 with 1 Axes>"
      ]
     },
     "metadata": {
      "needs_background": "light"
     },
     "output_type": "display_data"
    }
   ],
   "source": [
    "plt.plot(losses)       # Losses Minimised\n",
    "plt.show()"
   ]
  },
  {
   "cell_type": "markdown",
   "metadata": {},
   "source": [
    "## Prediction and Accuracy Report"
   ]
  },
  {
   "cell_type": "code",
   "execution_count": 29,
   "metadata": {},
   "outputs": [
    {
     "name": "stdout",
     "output_type": "stream",
     "text": [
      "              precision    recall  f1-score   support\n",
      "\n",
      "           0       0.89      0.74      0.81       247\n",
      "           1       0.96      0.91      0.94       231\n",
      "           2       0.64      0.68      0.66       181\n",
      "           3       0.80      0.56      0.66       286\n",
      "           4       0.72      0.73      0.72       202\n",
      "           5       0.48      0.47      0.48       201\n",
      "           6       0.77      0.90      0.83       159\n",
      "           7       0.83      0.79      0.81       203\n",
      "           8       0.09      0.33      0.14        52\n",
      "           9       0.76      0.68      0.72       238\n",
      "\n",
      "   micro avg       0.70      0.70      0.70      2000\n",
      "   macro avg       0.69      0.68      0.68      2000\n",
      "weighted avg       0.75      0.70      0.72      2000\n",
      " samples avg       0.70      0.70      0.70      2000\n",
      "\n"
     ]
    }
   ],
   "source": [
    "y_pred = NN.predict(X_test)\n",
    "\n",
    "score = 0\n",
    "\n",
    "y_pred = to_categorical(y_pred)\n",
    "\n",
    "# for i in range(y_test.shape[0]) :\n",
    "#     if(y_pred[i]==np.argmax(y_test[i],axis=0)):\n",
    "#         score += 1\n",
    "        \n",
    "from sklearn.metrics import classification_report\n",
    "print(classification_report(y_pred,y_test))\n"
   ]
  },
  {
   "cell_type": "markdown",
   "metadata": {},
   "source": [
    "## Complete !!!"
   ]
  }
 ],
 "metadata": {
  "kernelspec": {
   "display_name": "Python 3",
   "language": "python",
   "name": "python3"
  },
  "language_info": {
   "codemirror_mode": {
    "name": "ipython",
    "version": 3
   },
   "file_extension": ".py",
   "mimetype": "text/x-python",
   "name": "python",
   "nbconvert_exporter": "python",
   "pygments_lexer": "ipython3",
   "version": "3.7.6"
  }
 },
 "nbformat": 4,
 "nbformat_minor": 2
}
